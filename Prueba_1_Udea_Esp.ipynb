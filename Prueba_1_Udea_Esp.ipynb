{
  "cells": [
    {
      "cell_type": "markdown",
      "metadata": {
        "id": "VxSS3yza3h3I"
      },
      "source": [
        "## **Ejercicio 1** (50 pts)\n",
        "\n",
        "Escriba una clase `Pedido` que pueda ser usada para gestionar la información de los pedidos realizados a una pastelería (o carnicería o tienda de ropa o empresa que ud desee). Evite usar módulos como numpy, pandas o cualquier otro.\n",
        "\n",
        "### **Rubrica**:\n",
        "\n",
        "1. Generación de la clase que funcione correctamente con al menos 2 métodos y 2 atributos. **30 pts**.\n",
        "2. Comentarios y  documentación que sirva para quien deba usar la clase. **5 pts**.\n",
        "3. Pertinencia de la clase en el ámbito, ¿Por qué será útil esta herramienta y cómo ayudará a mejorar el negocio? esta será entregada en una celda de texto. **10 pts**.\n",
        "4. ¿Cree que se pueda construir una clase hija que ayude al proceso? Si sí constrúyala, sino, argumente por qué en una célda de código. **5 pts**."
      ]
    },
    {
      "cell_type": "code",
      "execution_count": null,
      "metadata": {
        "id": "dIG8TZthTumH"
      },
      "outputs": [],
      "source": [
        "class Order:\n",
        "    \"\"\"\n",
        "    Class to manage information about placed orders.\n",
        "\n",
        "    Attributes:\n",
        "        order (str): Order number (automatically generated).\n",
        "        customer (str): Name of the customer placing the order.\n",
        "        products (dict): Dictionary of products in the order, where keys are products and values are quantities.\n",
        "        items (dict): Established dictionary of products, where keys are products and values are prices.\n",
        "\n",
        "    Methods:\n",
        "        add_product(product: str, quantity: int) -> None:\n",
        "            Adds the specified quantity of a product to the order.\n",
        "\n",
        "        show_order() -> None:\n",
        "            Displays the details of the order.\n",
        "\n",
        "        calculate_total() -> float:\n",
        "            Calculates the total value of the order.\n",
        "    \"\"\"\n",
        "\n",
        "    def __init__(self, customer, items):\n",
        "        \"\"\"\n",
        "        Initializes an Order object with a randomly generated 4-character order number, the name of the customer, and an empty dictionary of products.\n",
        "\n",
        "        Args:\n",
        "            customer (str): Name of the customer placing the order.\n",
        "            items (dict): Established dictionary of products, where keys are products and values are prices.\n",
        "        \"\"\"\n",
        "        self.order = hash(id(object())) & ((1 << 64) - 1)\n",
        "        self.customer = customer\n",
        "        self.products = {product: 0 for product in items}\n",
        "        self.items = items\n",
        "\n",
        "    def add_product(self, product, quantity):\n",
        "        \"\"\"\n",
        "        Adds the specified quantity of a product to the order.\n",
        "\n",
        "        Args:\n",
        "            product (str): Name of the product to add.\n",
        "            quantity (int): Quantity of the product to add.\n",
        "        \"\"\"\n",
        "        if product in self.products:\n",
        "            self.products[product] += quantity\n",
        "        else:\n",
        "            print(\"The entered product is not available.\")\n",
        "\n",
        "    def show_order(self):\n",
        "        \"\"\"Displays the details of the order.\"\"\"\n",
        "        print(f\"Order #{self.order} from {self.customer}:\")\n",
        "        for product, quantity in self.products.items():\n",
        "            if quantity > 0:\n",
        "                print(f\"- {product}: {quantity}\")\n",
        "\n",
        "    def calculate_total(self):\n",
        "        \"\"\"Calculates the total value of the order.\"\"\"\n",
        "        total = sum(self.products[product] * self.items[product] for product in self.products)\n",
        "        return total"
      ]
    },
    {
      "cell_type": "markdown",
      "metadata": {
        "id": "Df7My8xsHDA5"
      },
      "source": [
        "### 3. Pertinencia de la clase en el ámbito, ¿Por qué será útil esta herramienta y cómo ayudará a mejorar el negocio? esta será entregada en una celda de texto.\n",
        "\n",
        "La clase Pedido es útil para gestionar información sobre los pedidos, incluyendo detalles como el número del pedido, el cliente y los productos. Los métodos proporcionan funcionalidades para calcular el total del pedido, y los nuevos valores en caso de que tenga modificaciones. Esto puede ayudar a mejorar la eficiencia y organización del negocio"
      ]
    },
    {
      "cell_type": "code",
      "execution_count": null,
      "metadata": {
        "id": "SKQbPztZWgqm"
      },
      "outputs": [],
      "source": [
        "# Class PremiumOrder\n",
        "class PremiumOrder(Order):\n",
        "    def __init__(self, customer, items, premium_customers):\n",
        "        super().__init__(customer, items)\n",
        "        self.premium = customer in premium_customers  # Verify if the customer is premium based on the provided list of premium customers\n",
        "\n",
        "    def apply_discount(self):\n",
        "        if self.premium:\n",
        "            discount = 0.25\n",
        "            previous_total = self.calculate_total()\n",
        "            discount_total = previous_total * discount\n",
        "            total_with_discount = previous_total - discount_total\n",
        "            print(\"Un 25% de descuento fue aplicado\")\n",
        "            print(f\"Total anterior: {previous_total}\")\n",
        "            print(f\"Total con descuento: {total_with_discount}\")\n",
        "            return total_with_discount\n",
        "        else:\n",
        "            print(\"El cliente no es elegible para descuento\")\n",
        "            return self.calculate_total()"
      ]
    },
    {
      "cell_type": "code",
      "execution_count": null,
      "metadata": {
        "id": "NUNZPtiDTyZb"
      },
      "outputs": [],
      "source": [
        "items = {\n",
        "    \"Leche\": 3000,\n",
        "    \"Arepas\": 1800,\n",
        "    \"Mantequilla\": 7000,\n",
        "    \"Huevos\": 15000,\n",
        "    \"Chocolate\": 2000,\n",
        "    \"Naranjas\": 1000,\n",
        "    \"Manzanas\": 1500,\n",
        "    \"Carne\": 10000,\n",
        "    \"Pollo\": 10000,\n",
        "    \"Cerveza\": 2500,\n",
        "    \"Cafe\": 25000,\n",
        "    \"Pan\": 8000\n",
        "}\n",
        "\n",
        "# Fixed list of premium customers\n",
        "premium_customers = [\n",
        "    \"Santiago\", \"Sebastián\", \"Mateo\", \"Matías\", \"Nicolás\", \"Samuel\", \"Diego\", \"Daniel\", \"Juan José\", \"Emiliano\",\n",
        "    \"Valentina\", \"Sofía\", \"Isabella\", \"María José\", \"Camila\", \"Valeria\", \"Luciana\", \"Mariana\", \"Gabriela\", \"Alejandra\"\n",
        "]"
      ]
    },
    {
      "cell_type": "code",
      "execution_count": null,
      "metadata": {
        "colab": {
          "base_uri": "https://localhost:8080/"
        },
        "id": "11GYfRHcT2f-",
        "outputId": "7add7bc3-7a81-4f3f-d5f4-8ce09575ab6b"
      },
      "outputs": [
        {
          "name": "stdout",
          "output_type": "stream",
          "text": [
            "Un 25% de descuento fue aplicado\n",
            "Previous total: 31500\n",
            "Total with discount: 23625.0\n",
            "Order #137256697789536 from Camila:\n",
            "- Leche: 2\n",
            "- Huevos: 1\n",
            "- Cerveza: 1\n",
            "- Pan: 1\n",
            "Total: 23625.0\n"
          ]
        }
      ],
      "source": [
        "# Request the name of the customer\n",
        "customer_name = \"Camila\"\n",
        "\n",
        "# Create an instance of PremiumOrder\n",
        "my_order = PremiumOrder(customer_name, items, premium_customers)\n",
        "\n",
        "# Add some products to the order\n",
        "my_order.add_product(\"Leche\", 2)\n",
        "my_order.add_product(\"Huevos\", 1)\n",
        "my_order.add_product(\"Cerveza\", 1)\n",
        "my_order.add_product(\"Pan\", 1)\n",
        "\n",
        "# Apply discount if the customer is premium\n",
        "total_order = my_order.apply_discount()\n",
        "\n",
        "# Display the order\n",
        "my_order.show_order()\n",
        "print(f\"Total: {total_order}\")"
      ]
    },
    {
      "cell_type": "markdown",
      "metadata": {
        "id": "86i69AUXAHt5"
      },
      "source": [
        "## **Ejercicio 2** (50 pts)\n",
        "\n",
        "Realice los siguientes ejercicios con numpy\n",
        "\n",
        "1. Resolver el siguiente sistema de ecuaciones. **16 pts**\n",
        "\n",
        "$$\n",
        "2x + 3y - z + 4w + 5v = 15\n",
        "$$\n",
        "\n",
        "$$\n",
        "x - 2y + 4z - 3w + v = 6\n",
        "$$\n",
        "\n",
        "$$\n",
        "3x + 2y - 3z + 5w - 2v = 11\n",
        "$$\n",
        "\n",
        "$$\n",
        "4x + y - 2z + 3w + 2v = 8\n",
        "$$\n",
        "\n",
        "$$\n",
        "x + y + z + w + v = 7\n",
        "$$\n",
        "\n",
        "2. Calcule el valor del número de Euler o constante de Napier $e = 2,71828$ como:\n",
        "\n",
        "$$e = \\sum_i ^{\\infty} \\frac{1}{n!}$$\n",
        "\n",
        "  ¿Qué precisión en términos de el número de términos necesita para dar cuenta de los primeros 5 números de la coma decimal? **18 pts**\n",
        "\n",
        "3. Ecuentre los auto valores de la matriz.  **16 pts**\n",
        "\n",
        "$$\n",
        "\\begin{pmatrix}\n",
        "2 & 1 & 1 \\\\\n",
        "4 & 3 & 2 \\\\\n",
        "1 & 1 & 2 \\\\\n",
        "\\end{pmatrix}\n",
        "$$\n",
        "\n"
      ]
    },
    {
      "cell_type": "code",
      "execution_count": null,
      "metadata": {
        "colab": {
          "base_uri": "https://localhost:8080/"
        },
        "id": "uQgwTNK6XPL4",
        "outputId": "ab7c5151-bc6f-40ea-a66c-937bb952a762"
      },
      "outputs": [
        {
          "name": "stdout",
          "output_type": "stream",
          "text": [
            "x = -1.6774193548387097\n",
            "y = -7.870967741935485\n",
            "z = 5.129032258064516\n",
            "w = 10.0\n",
            "v = 1.4193548387096777\n"
          ]
        },
        {
          "data": {
            "text/plain": [
              "array([15.,  6., 11.,  8.,  7.])"
            ]
          },
          "execution_count": 29,
          "metadata": {},
          "output_type": "execute_result"
        }
      ],
      "source": [
        "import numpy as np\n",
        "\n",
        "# A matrix of coefficients of the variable is generated\n",
        "coefficients = np.array([[2, 3, -1, 4, 5],\n",
        "                         [1, -2, 4, -3, 1],\n",
        "                         [3, 2, -3, 5, -2],\n",
        "                         [4, 1, -2, 3, 2],\n",
        "                         [1, 1, 1, 1, 1]])\n",
        "\n",
        "# An array with the independent values is created\n",
        "independent_terms = np.array([15, 6, 11, 8, 7])\n",
        "\n",
        "# The system of linear equations is solved using Numpy's built-in function\n",
        "solution = np.linalg.solve(coefficients, independent_terms)\n",
        "\n",
        "# The solution of the system is displayed\n",
        "print(\"x =\", solution[0])\n",
        "print(\"y =\", solution[1])\n",
        "print(\"z =\", solution[2])\n",
        "print(\"w =\", solution[3])\n",
        "print(\"v =\", solution[4])\n",
        "\n",
        "# Verification\n",
        "np.dot(coefficients, solution)"
      ]
    },
    {
      "cell_type": "markdown",
      "metadata": {
        "id": "zkAwep84VhNE"
      },
      "source": [
        "2."
      ]
    },
    {
      "cell_type": "code",
      "execution_count": null,
      "metadata": {
        "colab": {
          "base_uri": "https://localhost:8080/"
        },
        "id": "Z0BRdR0bXwkG",
        "outputId": "d8fbaea5-0dc3-4bcb-e735-680f47f80ef5"
      },
      "outputs": [
        {
          "name": "stdout",
          "output_type": "stream",
          "text": [
            "Eigenvalues of the matrix:\n",
            "[5.23606798 0.76393202 1.        ]\n"
          ]
        }
      ],
      "source": [
        "import numpy as np\n",
        "\n",
        "# Define the matrix\n",
        "matrix = np.array([[2, 4, 1], [1, 3, 1], [1, 1, 2]])\n",
        "\n",
        "# Calculate the eigenvalues\n",
        "eigenvalues = np.linalg.eigvals(matrix)\n",
        "\n",
        "# Print the eigenvalues\n",
        "print(\"Eigenvalues of the matrix:\")\n",
        "print(eigenvalues)"
      ]
    },
    {
      "cell_type": "markdown",
      "metadata": {
        "id": "pfNUkvx_Vdhj"
      },
      "source": [
        "3."
      ]
    },
    {
      "cell_type": "code",
      "execution_count": null,
      "metadata": {
        "colab": {
          "base_uri": "https://localhost:8080/"
        },
        "id": "Jmu76jwyX4bS",
        "outputId": "9f8cf862-5bbc-4ee1-aa9a-f3711dc6b87d"
      },
      "outputs": [
        {
          "name": "stdout",
          "output_type": "stream",
          "text": [
            "Aproximación de e con 10 términos: 2.718281525573192\n"
          ]
        }
      ],
      "source": [
        "import numpy as np\n",
        "\n",
        "def euler_approx(n):\n",
        "    # We are asked to calculate factorials up to n-1\n",
        "    factorials = np.cumprod(np.arange(1, n))\n",
        "\n",
        "    # Add the factorial of 0 to the beginning of the array\n",
        "    factorials = np.insert(factorials, 0, 1)\n",
        "\n",
        "    # Calculate the sum of the inverses of the factorials\n",
        "    sum_inverses = np.sum(1 / factorials)\n",
        "\n",
        "    return sum_inverses\n",
        "\n",
        "# Calculate an approximation of e by summing the inverses of the first 10 terms of the series\n",
        "e_approximated = euler_approx(10)\n",
        "print(\"Aproximación de e con 10 términos:\", e_approximated)"
      ]
    },
    {
      "cell_type": "code",
      "execution_count": null,
      "metadata": {
        "colab": {
          "base_uri": "https://localhost:8080/"
        },
        "id": "-VyJqKkmX9iF",
        "outputId": "77b0fd4c-9c94-453e-d20c-4aa4b6f2ba01"
      },
      "outputs": [
        {
          "name": "stdout",
          "output_type": "stream",
          "text": [
            "2.718281828459045\n",
            "Número de términos necesarios para una precisión de 1e-05 decimales: 9\n",
            "2.71828\n"
          ]
        }
      ],
      "source": [
        "# Reference value\n",
        "true_euler_value = np.e\n",
        "print(np.e)\n",
        "# Establish the required precision\n",
        "precision = 1e-5\n",
        "\n",
        "# Initialize terms\n",
        "n_terms = 1\n",
        "\n",
        "# Iterate until reaching the desired precision\n",
        "while abs(euler_approx(n_terms) - true_euler_value) > precision:\n",
        "    n_terms += 1\n",
        "\n",
        "print(f\"Número de términos necesarios para una precisión de {precision} decimales: {n_terms}\")\n",
        "\n",
        "# The number of terms required is approximately 9\n",
        "print(round(euler_approx(9),5))"
      ]
    }
  ],
  "metadata": {
    "colab": {
      "provenance": []
    },
    "kernelspec": {
      "display_name": "Python 3",
      "name": "python3"
    },
    "language_info": {
      "name": "python"
    }
  },
  "nbformat": 4,
  "nbformat_minor": 0
}
